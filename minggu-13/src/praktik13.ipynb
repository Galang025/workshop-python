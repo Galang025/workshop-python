{
 "cells": [
  {
   "cell_type": "markdown",
   "id": "9048b6bc",
   "metadata": {},
   "source": [
    "Pembuatan Onject"
   ]
  },
  {
   "cell_type": "code",
   "execution_count": 1,
   "id": "7475219c",
   "metadata": {},
   "outputs": [],
   "source": [
    "# Mengimpor lib sebagai berikut:\n",
    "import numpy as np\n",
    "import pandas as pd"
   ]
  },
  {
   "cell_type": "code",
   "execution_count": 2,
   "id": "7c3b4eeb",
   "metadata": {},
   "outputs": [
    {
     "data": {
      "text/plain": [
       "0    1.0\n",
       "1    3.0\n",
       "2    5.0\n",
       "3    NaN\n",
       "4    6.0\n",
       "5    8.0\n",
       "dtype: float64"
      ]
     },
     "execution_count": 2,
     "metadata": {},
     "output_type": "execute_result"
    }
   ],
   "source": [
    "# Membuat Series dengan meneruskan daftar nilai, memungkinkan panda membuat indeks bilangan bulat default:\n",
    "s = pd.Series([1, 3, 5, np.nan, 6, 8])\n",
    "s"
   ]
  },
  {
   "cell_type": "code",
   "execution_count": 3,
   "id": "fe168dfa",
   "metadata": {},
   "outputs": [
    {
     "data": {
      "text/plain": [
       "DatetimeIndex(['2013-01-01', '2013-01-02', '2013-01-03', '2013-01-04',\n",
       "               '2013-01-05', '2013-01-06'],\n",
       "              dtype='datetime64[ns]', freq='D')"
      ]
     },
     "execution_count": 3,
     "metadata": {},
     "output_type": "execute_result"
    }
   ],
   "source": [
    "# Membuat DataFrame dengan  meneruskan array NumPy, dengan indeks datetime dan kolom berlabel:\n",
    "dates = pd.date_range(\"20130101\", periods=6)\n",
    "dates"
   ]
  },
  {
   "cell_type": "code",
   "execution_count": 4,
   "id": "7f056ecc",
   "metadata": {},
   "outputs": [
    {
     "data": {
      "text/html": [
       "<div>\n",
       "<style scoped>\n",
       "    .dataframe tbody tr th:only-of-type {\n",
       "        vertical-align: middle;\n",
       "    }\n",
       "\n",
       "    .dataframe tbody tr th {\n",
       "        vertical-align: top;\n",
       "    }\n",
       "\n",
       "    .dataframe thead th {\n",
       "        text-align: right;\n",
       "    }\n",
       "</style>\n",
       "<table border=\"1\" class=\"dataframe\">\n",
       "  <thead>\n",
       "    <tr style=\"text-align: right;\">\n",
       "      <th></th>\n",
       "      <th>A</th>\n",
       "      <th>B</th>\n",
       "      <th>C</th>\n",
       "      <th>D</th>\n",
       "    </tr>\n",
       "  </thead>\n",
       "  <tbody>\n",
       "    <tr>\n",
       "      <th>2013-01-01</th>\n",
       "      <td>0.222833</td>\n",
       "      <td>0.309897</td>\n",
       "      <td>0.182732</td>\n",
       "      <td>-1.192047</td>\n",
       "    </tr>\n",
       "    <tr>\n",
       "      <th>2013-01-02</th>\n",
       "      <td>-1.436983</td>\n",
       "      <td>1.654496</td>\n",
       "      <td>0.124103</td>\n",
       "      <td>0.455230</td>\n",
       "    </tr>\n",
       "    <tr>\n",
       "      <th>2013-01-03</th>\n",
       "      <td>-0.755440</td>\n",
       "      <td>-0.344534</td>\n",
       "      <td>-1.689698</td>\n",
       "      <td>-0.084851</td>\n",
       "    </tr>\n",
       "    <tr>\n",
       "      <th>2013-01-04</th>\n",
       "      <td>-0.952336</td>\n",
       "      <td>-1.745434</td>\n",
       "      <td>-0.407317</td>\n",
       "      <td>0.564681</td>\n",
       "    </tr>\n",
       "    <tr>\n",
       "      <th>2013-01-05</th>\n",
       "      <td>-0.246854</td>\n",
       "      <td>-0.019881</td>\n",
       "      <td>-1.254590</td>\n",
       "      <td>-0.492861</td>\n",
       "    </tr>\n",
       "    <tr>\n",
       "      <th>2013-01-06</th>\n",
       "      <td>-0.369898</td>\n",
       "      <td>0.860512</td>\n",
       "      <td>1.213754</td>\n",
       "      <td>0.521780</td>\n",
       "    </tr>\n",
       "  </tbody>\n",
       "</table>\n",
       "</div>"
      ],
      "text/plain": [
       "                   A         B         C         D\n",
       "2013-01-01  0.222833  0.309897  0.182732 -1.192047\n",
       "2013-01-02 -1.436983  1.654496  0.124103  0.455230\n",
       "2013-01-03 -0.755440 -0.344534 -1.689698 -0.084851\n",
       "2013-01-04 -0.952336 -1.745434 -0.407317  0.564681\n",
       "2013-01-05 -0.246854 -0.019881 -1.254590 -0.492861\n",
       "2013-01-06 -0.369898  0.860512  1.213754  0.521780"
      ]
     },
     "execution_count": 4,
     "metadata": {},
     "output_type": "execute_result"
    }
   ],
   "source": [
    "df = pd.DataFrame(np.random.randn(6, 4), index=dates, columns=list(\"ABCD\"))\n",
    "df"
   ]
  },
  {
   "cell_type": "code",
   "execution_count": 5,
   "id": "a9790f3b",
   "metadata": {},
   "outputs": [
    {
     "data": {
      "text/html": [
       "<div>\n",
       "<style scoped>\n",
       "    .dataframe tbody tr th:only-of-type {\n",
       "        vertical-align: middle;\n",
       "    }\n",
       "\n",
       "    .dataframe tbody tr th {\n",
       "        vertical-align: top;\n",
       "    }\n",
       "\n",
       "    .dataframe thead th {\n",
       "        text-align: right;\n",
       "    }\n",
       "</style>\n",
       "<table border=\"1\" class=\"dataframe\">\n",
       "  <thead>\n",
       "    <tr style=\"text-align: right;\">\n",
       "      <th></th>\n",
       "      <th>A</th>\n",
       "      <th>B</th>\n",
       "      <th>C</th>\n",
       "      <th>D</th>\n",
       "      <th>E</th>\n",
       "      <th>F</th>\n",
       "    </tr>\n",
       "  </thead>\n",
       "  <tbody>\n",
       "    <tr>\n",
       "      <th>0</th>\n",
       "      <td>1.0</td>\n",
       "      <td>2013-01-02</td>\n",
       "      <td>1.0</td>\n",
       "      <td>3</td>\n",
       "      <td>test</td>\n",
       "      <td>foo</td>\n",
       "    </tr>\n",
       "    <tr>\n",
       "      <th>1</th>\n",
       "      <td>1.0</td>\n",
       "      <td>2013-01-02</td>\n",
       "      <td>1.0</td>\n",
       "      <td>3</td>\n",
       "      <td>train</td>\n",
       "      <td>foo</td>\n",
       "    </tr>\n",
       "    <tr>\n",
       "      <th>2</th>\n",
       "      <td>1.0</td>\n",
       "      <td>2013-01-02</td>\n",
       "      <td>1.0</td>\n",
       "      <td>3</td>\n",
       "      <td>test</td>\n",
       "      <td>foo</td>\n",
       "    </tr>\n",
       "    <tr>\n",
       "      <th>3</th>\n",
       "      <td>1.0</td>\n",
       "      <td>2013-01-02</td>\n",
       "      <td>1.0</td>\n",
       "      <td>3</td>\n",
       "      <td>train</td>\n",
       "      <td>foo</td>\n",
       "    </tr>\n",
       "  </tbody>\n",
       "</table>\n",
       "</div>"
      ],
      "text/plain": [
       "     A          B    C  D      E    F\n",
       "0  1.0 2013-01-02  1.0  3   test  foo\n",
       "1  1.0 2013-01-02  1.0  3  train  foo\n",
       "2  1.0 2013-01-02  1.0  3   test  foo\n",
       "3  1.0 2013-01-02  1.0  3  train  foo"
      ]
     },
     "execution_count": 5,
     "metadata": {},
     "output_type": "execute_result"
    }
   ],
   "source": [
    "# Membuat DataFrame dengan meneruskan kamus objek yang dapat dikonversi menjadi struktur seperti series:\n",
    "df2 = pd.DataFrame(\n",
    "    {\n",
    "        \"A\": 1.0,\n",
    "        \"B\": pd.Timestamp(\"20130102\"),\n",
    "        \"C\": pd.Series(1, index=list(range(4)), dtype=\"float32\"),\n",
    "        \"D\": np.array([3] * 4, dtype=\"int32\"),\n",
    "        \"E\": pd.Categorical([\"test\", \"train\", \"test\", \"train\"]),\n",
    "        \"F\": \"foo\",\n",
    "    }\n",
    ")\n",
    "\n",
    "\n",
    "df2"
   ]
  },
  {
   "cell_type": "code",
   "execution_count": 6,
   "id": "d59b9afa",
   "metadata": {},
   "outputs": [
    {
     "data": {
      "text/plain": [
       "A           float64\n",
       "B    datetime64[ns]\n",
       "C           float32\n",
       "D             int32\n",
       "E          category\n",
       "F            object\n",
       "dtype: object"
      ]
     },
     "execution_count": 6,
     "metadata": {},
     "output_type": "execute_result"
    }
   ],
   "source": [
    "# Kolom DataFrame yang dihasilkan  memiliki tipe yang berbeda:\n",
    "df2.dtypes"
   ]
  },
  {
   "cell_type": "markdown",
   "id": "7c32014e",
   "metadata": {},
   "source": [
    "Menampilkan Data"
   ]
  },
  {
   "cell_type": "code",
   "execution_count": 7,
   "id": "1c775e40",
   "metadata": {},
   "outputs": [
    {
     "data": {
      "text/html": [
       "<div>\n",
       "<style scoped>\n",
       "    .dataframe tbody tr th:only-of-type {\n",
       "        vertical-align: middle;\n",
       "    }\n",
       "\n",
       "    .dataframe tbody tr th {\n",
       "        vertical-align: top;\n",
       "    }\n",
       "\n",
       "    .dataframe thead th {\n",
       "        text-align: right;\n",
       "    }\n",
       "</style>\n",
       "<table border=\"1\" class=\"dataframe\">\n",
       "  <thead>\n",
       "    <tr style=\"text-align: right;\">\n",
       "      <th></th>\n",
       "      <th>A</th>\n",
       "      <th>B</th>\n",
       "      <th>C</th>\n",
       "      <th>D</th>\n",
       "    </tr>\n",
       "  </thead>\n",
       "  <tbody>\n",
       "    <tr>\n",
       "      <th>2013-01-01</th>\n",
       "      <td>0.222833</td>\n",
       "      <td>0.309897</td>\n",
       "      <td>0.182732</td>\n",
       "      <td>-1.192047</td>\n",
       "    </tr>\n",
       "    <tr>\n",
       "      <th>2013-01-02</th>\n",
       "      <td>-1.436983</td>\n",
       "      <td>1.654496</td>\n",
       "      <td>0.124103</td>\n",
       "      <td>0.455230</td>\n",
       "    </tr>\n",
       "    <tr>\n",
       "      <th>2013-01-03</th>\n",
       "      <td>-0.755440</td>\n",
       "      <td>-0.344534</td>\n",
       "      <td>-1.689698</td>\n",
       "      <td>-0.084851</td>\n",
       "    </tr>\n",
       "    <tr>\n",
       "      <th>2013-01-04</th>\n",
       "      <td>-0.952336</td>\n",
       "      <td>-1.745434</td>\n",
       "      <td>-0.407317</td>\n",
       "      <td>0.564681</td>\n",
       "    </tr>\n",
       "    <tr>\n",
       "      <th>2013-01-05</th>\n",
       "      <td>-0.246854</td>\n",
       "      <td>-0.019881</td>\n",
       "      <td>-1.254590</td>\n",
       "      <td>-0.492861</td>\n",
       "    </tr>\n",
       "  </tbody>\n",
       "</table>\n",
       "</div>"
      ],
      "text/plain": [
       "                   A         B         C         D\n",
       "2013-01-01  0.222833  0.309897  0.182732 -1.192047\n",
       "2013-01-02 -1.436983  1.654496  0.124103  0.455230\n",
       "2013-01-03 -0.755440 -0.344534 -1.689698 -0.084851\n",
       "2013-01-04 -0.952336 -1.745434 -0.407317  0.564681\n",
       "2013-01-05 -0.246854 -0.019881 -1.254590 -0.492861"
      ]
     },
     "execution_count": 7,
     "metadata": {},
     "output_type": "execute_result"
    }
   ],
   "source": [
    "# Berikut adalah cara melihat baris atas:\n",
    "df.head()"
   ]
  },
  {
   "cell_type": "code",
   "execution_count": 8,
   "id": "6062ee53",
   "metadata": {},
   "outputs": [
    {
     "data": {
      "text/html": [
       "<div>\n",
       "<style scoped>\n",
       "    .dataframe tbody tr th:only-of-type {\n",
       "        vertical-align: middle;\n",
       "    }\n",
       "\n",
       "    .dataframe tbody tr th {\n",
       "        vertical-align: top;\n",
       "    }\n",
       "\n",
       "    .dataframe thead th {\n",
       "        text-align: right;\n",
       "    }\n",
       "</style>\n",
       "<table border=\"1\" class=\"dataframe\">\n",
       "  <thead>\n",
       "    <tr style=\"text-align: right;\">\n",
       "      <th></th>\n",
       "      <th>A</th>\n",
       "      <th>B</th>\n",
       "      <th>C</th>\n",
       "      <th>D</th>\n",
       "    </tr>\n",
       "  </thead>\n",
       "  <tbody>\n",
       "    <tr>\n",
       "      <th>2013-01-04</th>\n",
       "      <td>-0.952336</td>\n",
       "      <td>-1.745434</td>\n",
       "      <td>-0.407317</td>\n",
       "      <td>0.564681</td>\n",
       "    </tr>\n",
       "    <tr>\n",
       "      <th>2013-01-05</th>\n",
       "      <td>-0.246854</td>\n",
       "      <td>-0.019881</td>\n",
       "      <td>-1.254590</td>\n",
       "      <td>-0.492861</td>\n",
       "    </tr>\n",
       "    <tr>\n",
       "      <th>2013-01-06</th>\n",
       "      <td>-0.369898</td>\n",
       "      <td>0.860512</td>\n",
       "      <td>1.213754</td>\n",
       "      <td>0.521780</td>\n",
       "    </tr>\n",
       "  </tbody>\n",
       "</table>\n",
       "</div>"
      ],
      "text/plain": [
       "                   A         B         C         D\n",
       "2013-01-04 -0.952336 -1.745434 -0.407317  0.564681\n",
       "2013-01-05 -0.246854 -0.019881 -1.254590 -0.492861\n",
       "2013-01-06 -0.369898  0.860512  1.213754  0.521780"
      ]
     },
     "execution_count": 8,
     "metadata": {},
     "output_type": "execute_result"
    }
   ],
   "source": [
    "# Untuk melihat frame baris bawah\n",
    "df.tail(3) "
   ]
  },
  {
   "cell_type": "code",
   "execution_count": 9,
   "id": "837f5627",
   "metadata": {},
   "outputs": [
    {
     "data": {
      "text/plain": [
       "DatetimeIndex(['2013-01-01', '2013-01-02', '2013-01-03', '2013-01-04',\n",
       "               '2013-01-05', '2013-01-06'],\n",
       "              dtype='datetime64[ns]', freq='D')"
      ]
     },
     "execution_count": 9,
     "metadata": {},
     "output_type": "execute_result"
    }
   ],
   "source": [
    "# Menampilkan indeks \n",
    "df.index"
   ]
  },
  {
   "cell_type": "code",
   "execution_count": 10,
   "id": "892bb4f8",
   "metadata": {},
   "outputs": [
    {
     "data": {
      "text/plain": [
       "Index(['A', 'B', 'C', 'D'], dtype='object')"
      ]
     },
     "execution_count": 10,
     "metadata": {},
     "output_type": "execute_result"
    }
   ],
   "source": [
    "# Menampilkan kolom\n",
    "df.columns"
   ]
  },
  {
   "cell_type": "code",
   "execution_count": 11,
   "id": "0a311257",
   "metadata": {},
   "outputs": [
    {
     "data": {
      "text/plain": [
       "array([[ 0.22283293,  0.30989712,  0.18273247, -1.19204676],\n",
       "       [-1.43698272,  1.65449616,  0.12410265,  0.45523042],\n",
       "       [-0.7554397 , -0.34453381, -1.68969819, -0.08485128],\n",
       "       [-0.95233562, -1.74543439, -0.40731721,  0.56468127],\n",
       "       [-0.24685401, -0.01988133, -1.25458979, -0.49286062],\n",
       "       [-0.36989831,  0.86051204,  1.21375435,  0.52178029]])"
      ]
     },
     "execution_count": 11,
     "metadata": {},
     "output_type": "execute_result"
    }
   ],
   "source": [
    "df.to_numpy()"
   ]
  },
  {
   "cell_type": "code",
   "execution_count": 12,
   "id": "5a5f02e4",
   "metadata": {},
   "outputs": [
    {
     "data": {
      "text/plain": [
       "array([[1.0, Timestamp('2013-01-02 00:00:00'), 1.0, 3, 'test', 'foo'],\n",
       "       [1.0, Timestamp('2013-01-02 00:00:00'), 1.0, 3, 'train', 'foo'],\n",
       "       [1.0, Timestamp('2013-01-02 00:00:00'), 1.0, 3, 'test', 'foo'],\n",
       "       [1.0, Timestamp('2013-01-02 00:00:00'), 1.0, 3, 'train', 'foo']],\n",
       "      dtype=object)"
      ]
     },
     "execution_count": 12,
     "metadata": {},
     "output_type": "execute_result"
    }
   ],
   "source": [
    "df2.to_numpy()"
   ]
  },
  {
   "cell_type": "code",
   "execution_count": 13,
   "id": "3dcd86db",
   "metadata": {},
   "outputs": [
    {
     "data": {
      "text/html": [
       "<div>\n",
       "<style scoped>\n",
       "    .dataframe tbody tr th:only-of-type {\n",
       "        vertical-align: middle;\n",
       "    }\n",
       "\n",
       "    .dataframe tbody tr th {\n",
       "        vertical-align: top;\n",
       "    }\n",
       "\n",
       "    .dataframe thead th {\n",
       "        text-align: right;\n",
       "    }\n",
       "</style>\n",
       "<table border=\"1\" class=\"dataframe\">\n",
       "  <thead>\n",
       "    <tr style=\"text-align: right;\">\n",
       "      <th></th>\n",
       "      <th>A</th>\n",
       "      <th>B</th>\n",
       "      <th>C</th>\n",
       "      <th>D</th>\n",
       "    </tr>\n",
       "  </thead>\n",
       "  <tbody>\n",
       "    <tr>\n",
       "      <th>count</th>\n",
       "      <td>6.000000</td>\n",
       "      <td>6.000000</td>\n",
       "      <td>6.000000</td>\n",
       "      <td>6.000000</td>\n",
       "    </tr>\n",
       "    <tr>\n",
       "      <th>mean</th>\n",
       "      <td>-0.589780</td>\n",
       "      <td>0.119176</td>\n",
       "      <td>-0.305169</td>\n",
       "      <td>-0.038011</td>\n",
       "    </tr>\n",
       "    <tr>\n",
       "      <th>std</th>\n",
       "      <td>0.583597</td>\n",
       "      <td>1.153629</td>\n",
       "      <td>1.054344</td>\n",
       "      <td>0.701537</td>\n",
       "    </tr>\n",
       "    <tr>\n",
       "      <th>min</th>\n",
       "      <td>-1.436983</td>\n",
       "      <td>-1.745434</td>\n",
       "      <td>-1.689698</td>\n",
       "      <td>-1.192047</td>\n",
       "    </tr>\n",
       "    <tr>\n",
       "      <th>25%</th>\n",
       "      <td>-0.903112</td>\n",
       "      <td>-0.263371</td>\n",
       "      <td>-1.042772</td>\n",
       "      <td>-0.390858</td>\n",
       "    </tr>\n",
       "    <tr>\n",
       "      <th>50%</th>\n",
       "      <td>-0.562669</td>\n",
       "      <td>0.145008</td>\n",
       "      <td>-0.141607</td>\n",
       "      <td>0.185190</td>\n",
       "    </tr>\n",
       "    <tr>\n",
       "      <th>75%</th>\n",
       "      <td>-0.277615</td>\n",
       "      <td>0.722858</td>\n",
       "      <td>0.168075</td>\n",
       "      <td>0.505143</td>\n",
       "    </tr>\n",
       "    <tr>\n",
       "      <th>max</th>\n",
       "      <td>0.222833</td>\n",
       "      <td>1.654496</td>\n",
       "      <td>1.213754</td>\n",
       "      <td>0.564681</td>\n",
       "    </tr>\n",
       "  </tbody>\n",
       "</table>\n",
       "</div>"
      ],
      "text/plain": [
       "              A         B         C         D\n",
       "count  6.000000  6.000000  6.000000  6.000000\n",
       "mean  -0.589780  0.119176 -0.305169 -0.038011\n",
       "std    0.583597  1.153629  1.054344  0.701537\n",
       "min   -1.436983 -1.745434 -1.689698 -1.192047\n",
       "25%   -0.903112 -0.263371 -1.042772 -0.390858\n",
       "50%   -0.562669  0.145008 -0.141607  0.185190\n",
       "75%   -0.277615  0.722858  0.168075  0.505143\n",
       "max    0.222833  1.654496  1.213754  0.564681"
      ]
     },
     "execution_count": 13,
     "metadata": {},
     "output_type": "execute_result"
    }
   ],
   "source": [
    "# menampilkan ringkasan statistik data:\n",
    "df.describe()"
   ]
  },
  {
   "cell_type": "code",
   "execution_count": 14,
   "id": "792dc5b4",
   "metadata": {},
   "outputs": [
    {
     "data": {
      "text/html": [
       "<div>\n",
       "<style scoped>\n",
       "    .dataframe tbody tr th:only-of-type {\n",
       "        vertical-align: middle;\n",
       "    }\n",
       "\n",
       "    .dataframe tbody tr th {\n",
       "        vertical-align: top;\n",
       "    }\n",
       "\n",
       "    .dataframe thead th {\n",
       "        text-align: right;\n",
       "    }\n",
       "</style>\n",
       "<table border=\"1\" class=\"dataframe\">\n",
       "  <thead>\n",
       "    <tr style=\"text-align: right;\">\n",
       "      <th></th>\n",
       "      <th>2013-01-01</th>\n",
       "      <th>2013-01-02</th>\n",
       "      <th>2013-01-03</th>\n",
       "      <th>2013-01-04</th>\n",
       "      <th>2013-01-05</th>\n",
       "      <th>2013-01-06</th>\n",
       "    </tr>\n",
       "  </thead>\n",
       "  <tbody>\n",
       "    <tr>\n",
       "      <th>A</th>\n",
       "      <td>0.222833</td>\n",
       "      <td>-1.436983</td>\n",
       "      <td>-0.755440</td>\n",
       "      <td>-0.952336</td>\n",
       "      <td>-0.246854</td>\n",
       "      <td>-0.369898</td>\n",
       "    </tr>\n",
       "    <tr>\n",
       "      <th>B</th>\n",
       "      <td>0.309897</td>\n",
       "      <td>1.654496</td>\n",
       "      <td>-0.344534</td>\n",
       "      <td>-1.745434</td>\n",
       "      <td>-0.019881</td>\n",
       "      <td>0.860512</td>\n",
       "    </tr>\n",
       "    <tr>\n",
       "      <th>C</th>\n",
       "      <td>0.182732</td>\n",
       "      <td>0.124103</td>\n",
       "      <td>-1.689698</td>\n",
       "      <td>-0.407317</td>\n",
       "      <td>-1.254590</td>\n",
       "      <td>1.213754</td>\n",
       "    </tr>\n",
       "    <tr>\n",
       "      <th>D</th>\n",
       "      <td>-1.192047</td>\n",
       "      <td>0.455230</td>\n",
       "      <td>-0.084851</td>\n",
       "      <td>0.564681</td>\n",
       "      <td>-0.492861</td>\n",
       "      <td>0.521780</td>\n",
       "    </tr>\n",
       "  </tbody>\n",
       "</table>\n",
       "</div>"
      ],
      "text/plain": [
       "   2013-01-01  2013-01-02  2013-01-03  2013-01-04  2013-01-05  2013-01-06\n",
       "A    0.222833   -1.436983   -0.755440   -0.952336   -0.246854   -0.369898\n",
       "B    0.309897    1.654496   -0.344534   -1.745434   -0.019881    0.860512\n",
       "C    0.182732    0.124103   -1.689698   -0.407317   -1.254590    1.213754\n",
       "D   -1.192047    0.455230   -0.084851    0.564681   -0.492861    0.521780"
      ]
     },
     "execution_count": 14,
     "metadata": {},
     "output_type": "execute_result"
    }
   ],
   "source": [
    "# Mentransposisikan data Anda:\n",
    "df.T"
   ]
  },
  {
   "cell_type": "code",
   "execution_count": 15,
   "id": "20845b9a",
   "metadata": {},
   "outputs": [
    {
     "data": {
      "text/html": [
       "<div>\n",
       "<style scoped>\n",
       "    .dataframe tbody tr th:only-of-type {\n",
       "        vertical-align: middle;\n",
       "    }\n",
       "\n",
       "    .dataframe tbody tr th {\n",
       "        vertical-align: top;\n",
       "    }\n",
       "\n",
       "    .dataframe thead th {\n",
       "        text-align: right;\n",
       "    }\n",
       "</style>\n",
       "<table border=\"1\" class=\"dataframe\">\n",
       "  <thead>\n",
       "    <tr style=\"text-align: right;\">\n",
       "      <th></th>\n",
       "      <th>D</th>\n",
       "      <th>C</th>\n",
       "      <th>B</th>\n",
       "      <th>A</th>\n",
       "    </tr>\n",
       "  </thead>\n",
       "  <tbody>\n",
       "    <tr>\n",
       "      <th>2013-01-01</th>\n",
       "      <td>-1.192047</td>\n",
       "      <td>0.182732</td>\n",
       "      <td>0.309897</td>\n",
       "      <td>0.222833</td>\n",
       "    </tr>\n",
       "    <tr>\n",
       "      <th>2013-01-02</th>\n",
       "      <td>0.455230</td>\n",
       "      <td>0.124103</td>\n",
       "      <td>1.654496</td>\n",
       "      <td>-1.436983</td>\n",
       "    </tr>\n",
       "    <tr>\n",
       "      <th>2013-01-03</th>\n",
       "      <td>-0.084851</td>\n",
       "      <td>-1.689698</td>\n",
       "      <td>-0.344534</td>\n",
       "      <td>-0.755440</td>\n",
       "    </tr>\n",
       "    <tr>\n",
       "      <th>2013-01-04</th>\n",
       "      <td>0.564681</td>\n",
       "      <td>-0.407317</td>\n",
       "      <td>-1.745434</td>\n",
       "      <td>-0.952336</td>\n",
       "    </tr>\n",
       "    <tr>\n",
       "      <th>2013-01-05</th>\n",
       "      <td>-0.492861</td>\n",
       "      <td>-1.254590</td>\n",
       "      <td>-0.019881</td>\n",
       "      <td>-0.246854</td>\n",
       "    </tr>\n",
       "    <tr>\n",
       "      <th>2013-01-06</th>\n",
       "      <td>0.521780</td>\n",
       "      <td>1.213754</td>\n",
       "      <td>0.860512</td>\n",
       "      <td>-0.369898</td>\n",
       "    </tr>\n",
       "  </tbody>\n",
       "</table>\n",
       "</div>"
      ],
      "text/plain": [
       "                   D         C         B         A\n",
       "2013-01-01 -1.192047  0.182732  0.309897  0.222833\n",
       "2013-01-02  0.455230  0.124103  1.654496 -1.436983\n",
       "2013-01-03 -0.084851 -1.689698 -0.344534 -0.755440\n",
       "2013-01-04  0.564681 -0.407317 -1.745434 -0.952336\n",
       "2013-01-05 -0.492861 -1.254590 -0.019881 -0.246854\n",
       "2013-01-06  0.521780  1.213754  0.860512 -0.369898"
      ]
     },
     "execution_count": 15,
     "metadata": {},
     "output_type": "execute_result"
    }
   ],
   "source": [
    "# Mengurutkan menurut sumbu:\n",
    "df.sort_index(axis=1, ascending=False)"
   ]
  },
  {
   "cell_type": "code",
   "execution_count": 16,
   "id": "a5824370",
   "metadata": {},
   "outputs": [
    {
     "data": {
      "text/html": [
       "<div>\n",
       "<style scoped>\n",
       "    .dataframe tbody tr th:only-of-type {\n",
       "        vertical-align: middle;\n",
       "    }\n",
       "\n",
       "    .dataframe tbody tr th {\n",
       "        vertical-align: top;\n",
       "    }\n",
       "\n",
       "    .dataframe thead th {\n",
       "        text-align: right;\n",
       "    }\n",
       "</style>\n",
       "<table border=\"1\" class=\"dataframe\">\n",
       "  <thead>\n",
       "    <tr style=\"text-align: right;\">\n",
       "      <th></th>\n",
       "      <th>A</th>\n",
       "      <th>B</th>\n",
       "      <th>C</th>\n",
       "      <th>D</th>\n",
       "    </tr>\n",
       "  </thead>\n",
       "  <tbody>\n",
       "    <tr>\n",
       "      <th>2013-01-04</th>\n",
       "      <td>-0.952336</td>\n",
       "      <td>-1.745434</td>\n",
       "      <td>-0.407317</td>\n",
       "      <td>0.564681</td>\n",
       "    </tr>\n",
       "    <tr>\n",
       "      <th>2013-01-03</th>\n",
       "      <td>-0.755440</td>\n",
       "      <td>-0.344534</td>\n",
       "      <td>-1.689698</td>\n",
       "      <td>-0.084851</td>\n",
       "    </tr>\n",
       "    <tr>\n",
       "      <th>2013-01-05</th>\n",
       "      <td>-0.246854</td>\n",
       "      <td>-0.019881</td>\n",
       "      <td>-1.254590</td>\n",
       "      <td>-0.492861</td>\n",
       "    </tr>\n",
       "    <tr>\n",
       "      <th>2013-01-01</th>\n",
       "      <td>0.222833</td>\n",
       "      <td>0.309897</td>\n",
       "      <td>0.182732</td>\n",
       "      <td>-1.192047</td>\n",
       "    </tr>\n",
       "    <tr>\n",
       "      <th>2013-01-06</th>\n",
       "      <td>-0.369898</td>\n",
       "      <td>0.860512</td>\n",
       "      <td>1.213754</td>\n",
       "      <td>0.521780</td>\n",
       "    </tr>\n",
       "    <tr>\n",
       "      <th>2013-01-02</th>\n",
       "      <td>-1.436983</td>\n",
       "      <td>1.654496</td>\n",
       "      <td>0.124103</td>\n",
       "      <td>0.455230</td>\n",
       "    </tr>\n",
       "  </tbody>\n",
       "</table>\n",
       "</div>"
      ],
      "text/plain": [
       "                   A         B         C         D\n",
       "2013-01-04 -0.952336 -1.745434 -0.407317  0.564681\n",
       "2013-01-03 -0.755440 -0.344534 -1.689698 -0.084851\n",
       "2013-01-05 -0.246854 -0.019881 -1.254590 -0.492861\n",
       "2013-01-01  0.222833  0.309897  0.182732 -1.192047\n",
       "2013-01-06 -0.369898  0.860512  1.213754  0.521780\n",
       "2013-01-02 -1.436983  1.654496  0.124103  0.455230"
      ]
     },
     "execution_count": 16,
     "metadata": {},
     "output_type": "execute_result"
    }
   ],
   "source": [
    "# Mengurutkan menurut nilai:\n",
    "df.sort_values(by=\"B\")"
   ]
  },
  {
   "cell_type": "code",
   "execution_count": 17,
   "id": "ec75c875",
   "metadata": {},
   "outputs": [
    {
     "data": {
      "text/plain": [
       "2013-01-01    0.222833\n",
       "2013-01-02   -1.436983\n",
       "2013-01-03   -0.755440\n",
       "2013-01-04   -0.952336\n",
       "2013-01-05   -0.246854\n",
       "2013-01-06   -0.369898\n",
       "Freq: D, Name: A, dtype: float64"
      ]
     },
     "execution_count": 17,
     "metadata": {},
     "output_type": "execute_result"
    }
   ],
   "source": [
    "# Memilih satu kolom dari data Series:\n",
    "df[\"A\"]"
   ]
  },
  {
   "cell_type": "code",
   "execution_count": 18,
   "id": "c1e9f4dd",
   "metadata": {},
   "outputs": [
    {
     "data": {
      "text/html": [
       "<div>\n",
       "<style scoped>\n",
       "    .dataframe tbody tr th:only-of-type {\n",
       "        vertical-align: middle;\n",
       "    }\n",
       "\n",
       "    .dataframe tbody tr th {\n",
       "        vertical-align: top;\n",
       "    }\n",
       "\n",
       "    .dataframe thead th {\n",
       "        text-align: right;\n",
       "    }\n",
       "</style>\n",
       "<table border=\"1\" class=\"dataframe\">\n",
       "  <thead>\n",
       "    <tr style=\"text-align: right;\">\n",
       "      <th></th>\n",
       "      <th>A</th>\n",
       "      <th>B</th>\n",
       "      <th>C</th>\n",
       "      <th>D</th>\n",
       "    </tr>\n",
       "  </thead>\n",
       "  <tbody>\n",
       "    <tr>\n",
       "      <th>2013-01-01</th>\n",
       "      <td>0.222833</td>\n",
       "      <td>0.309897</td>\n",
       "      <td>0.182732</td>\n",
       "      <td>-1.192047</td>\n",
       "    </tr>\n",
       "    <tr>\n",
       "      <th>2013-01-02</th>\n",
       "      <td>-1.436983</td>\n",
       "      <td>1.654496</td>\n",
       "      <td>0.124103</td>\n",
       "      <td>0.455230</td>\n",
       "    </tr>\n",
       "    <tr>\n",
       "      <th>2013-01-03</th>\n",
       "      <td>-0.755440</td>\n",
       "      <td>-0.344534</td>\n",
       "      <td>-1.689698</td>\n",
       "      <td>-0.084851</td>\n",
       "    </tr>\n",
       "  </tbody>\n",
       "</table>\n",
       "</div>"
      ],
      "text/plain": [
       "                   A         B         C         D\n",
       "2013-01-01  0.222833  0.309897  0.182732 -1.192047\n",
       "2013-01-02 -1.436983  1.654496  0.124103  0.455230\n",
       "2013-01-03 -0.755440 -0.344534 -1.689698 -0.084851"
      ]
     },
     "execution_count": 18,
     "metadata": {},
     "output_type": "execute_result"
    }
   ],
   "source": [
    "# Memilih data melalui [], yang mengiris baris:\n",
    "df[0:3]"
   ]
  },
  {
   "cell_type": "code",
   "execution_count": 19,
   "id": "f6c0852a",
   "metadata": {},
   "outputs": [
    {
     "data": {
      "text/html": [
       "<div>\n",
       "<style scoped>\n",
       "    .dataframe tbody tr th:only-of-type {\n",
       "        vertical-align: middle;\n",
       "    }\n",
       "\n",
       "    .dataframe tbody tr th {\n",
       "        vertical-align: top;\n",
       "    }\n",
       "\n",
       "    .dataframe thead th {\n",
       "        text-align: right;\n",
       "    }\n",
       "</style>\n",
       "<table border=\"1\" class=\"dataframe\">\n",
       "  <thead>\n",
       "    <tr style=\"text-align: right;\">\n",
       "      <th></th>\n",
       "      <th>A</th>\n",
       "      <th>B</th>\n",
       "      <th>C</th>\n",
       "      <th>D</th>\n",
       "    </tr>\n",
       "  </thead>\n",
       "  <tbody>\n",
       "    <tr>\n",
       "      <th>2013-01-02</th>\n",
       "      <td>-1.436983</td>\n",
       "      <td>1.654496</td>\n",
       "      <td>0.124103</td>\n",
       "      <td>0.455230</td>\n",
       "    </tr>\n",
       "    <tr>\n",
       "      <th>2013-01-03</th>\n",
       "      <td>-0.755440</td>\n",
       "      <td>-0.344534</td>\n",
       "      <td>-1.689698</td>\n",
       "      <td>-0.084851</td>\n",
       "    </tr>\n",
       "    <tr>\n",
       "      <th>2013-01-04</th>\n",
       "      <td>-0.952336</td>\n",
       "      <td>-1.745434</td>\n",
       "      <td>-0.407317</td>\n",
       "      <td>0.564681</td>\n",
       "    </tr>\n",
       "  </tbody>\n",
       "</table>\n",
       "</div>"
      ],
      "text/plain": [
       "                   A         B         C         D\n",
       "2013-01-02 -1.436983  1.654496  0.124103  0.455230\n",
       "2013-01-03 -0.755440 -0.344534 -1.689698 -0.084851\n",
       "2013-01-04 -0.952336 -1.745434 -0.407317  0.564681"
      ]
     },
     "execution_count": 19,
     "metadata": {},
     "output_type": "execute_result"
    }
   ],
   "source": [
    "df[\"20130102\":\"20130104\"]"
   ]
  },
  {
   "cell_type": "markdown",
   "id": "fca3ff82",
   "metadata": {},
   "source": [
    "Seleksi berdasarkan label"
   ]
  },
  {
   "cell_type": "code",
   "execution_count": 20,
   "id": "dd017f47",
   "metadata": {},
   "outputs": [
    {
     "data": {
      "text/plain": [
       "A    0.222833\n",
       "B    0.309897\n",
       "C    0.182732\n",
       "D   -1.192047\n",
       "Name: 2013-01-01 00:00:00, dtype: float64"
      ]
     },
     "execution_count": 20,
     "metadata": {},
     "output_type": "execute_result"
    }
   ],
   "source": [
    "# Untuk mendapatkan cross section menggunakan label:\n",
    "df.loc[dates[0]]"
   ]
  },
  {
   "cell_type": "code",
   "execution_count": 21,
   "id": "2350a767",
   "metadata": {},
   "outputs": [
    {
     "data": {
      "text/html": [
       "<div>\n",
       "<style scoped>\n",
       "    .dataframe tbody tr th:only-of-type {\n",
       "        vertical-align: middle;\n",
       "    }\n",
       "\n",
       "    .dataframe tbody tr th {\n",
       "        vertical-align: top;\n",
       "    }\n",
       "\n",
       "    .dataframe thead th {\n",
       "        text-align: right;\n",
       "    }\n",
       "</style>\n",
       "<table border=\"1\" class=\"dataframe\">\n",
       "  <thead>\n",
       "    <tr style=\"text-align: right;\">\n",
       "      <th></th>\n",
       "      <th>A</th>\n",
       "      <th>B</th>\n",
       "    </tr>\n",
       "  </thead>\n",
       "  <tbody>\n",
       "    <tr>\n",
       "      <th>2013-01-01</th>\n",
       "      <td>0.222833</td>\n",
       "      <td>0.309897</td>\n",
       "    </tr>\n",
       "    <tr>\n",
       "      <th>2013-01-02</th>\n",
       "      <td>-1.436983</td>\n",
       "      <td>1.654496</td>\n",
       "    </tr>\n",
       "    <tr>\n",
       "      <th>2013-01-03</th>\n",
       "      <td>-0.755440</td>\n",
       "      <td>-0.344534</td>\n",
       "    </tr>\n",
       "    <tr>\n",
       "      <th>2013-01-04</th>\n",
       "      <td>-0.952336</td>\n",
       "      <td>-1.745434</td>\n",
       "    </tr>\n",
       "    <tr>\n",
       "      <th>2013-01-05</th>\n",
       "      <td>-0.246854</td>\n",
       "      <td>-0.019881</td>\n",
       "    </tr>\n",
       "    <tr>\n",
       "      <th>2013-01-06</th>\n",
       "      <td>-0.369898</td>\n",
       "      <td>0.860512</td>\n",
       "    </tr>\n",
       "  </tbody>\n",
       "</table>\n",
       "</div>"
      ],
      "text/plain": [
       "                   A         B\n",
       "2013-01-01  0.222833  0.309897\n",
       "2013-01-02 -1.436983  1.654496\n",
       "2013-01-03 -0.755440 -0.344534\n",
       "2013-01-04 -0.952336 -1.745434\n",
       "2013-01-05 -0.246854 -0.019881\n",
       "2013-01-06 -0.369898  0.860512"
      ]
     },
     "execution_count": 21,
     "metadata": {},
     "output_type": "execute_result"
    }
   ],
   "source": [
    "# Memilih pada multi-axis menurut label:\n",
    "df.loc[:, [\"A\", \"B\"]]"
   ]
  },
  {
   "cell_type": "code",
   "execution_count": 23,
   "id": "93d9d484",
   "metadata": {},
   "outputs": [
    {
     "data": {
      "text/html": [
       "<div>\n",
       "<style scoped>\n",
       "    .dataframe tbody tr th:only-of-type {\n",
       "        vertical-align: middle;\n",
       "    }\n",
       "\n",
       "    .dataframe tbody tr th {\n",
       "        vertical-align: top;\n",
       "    }\n",
       "\n",
       "    .dataframe thead th {\n",
       "        text-align: right;\n",
       "    }\n",
       "</style>\n",
       "<table border=\"1\" class=\"dataframe\">\n",
       "  <thead>\n",
       "    <tr style=\"text-align: right;\">\n",
       "      <th></th>\n",
       "      <th>A</th>\n",
       "      <th>B</th>\n",
       "    </tr>\n",
       "  </thead>\n",
       "  <tbody>\n",
       "    <tr>\n",
       "      <th>2013-01-02</th>\n",
       "      <td>-1.436983</td>\n",
       "      <td>1.654496</td>\n",
       "    </tr>\n",
       "    <tr>\n",
       "      <th>2013-01-03</th>\n",
       "      <td>-0.755440</td>\n",
       "      <td>-0.344534</td>\n",
       "    </tr>\n",
       "    <tr>\n",
       "      <th>2013-01-04</th>\n",
       "      <td>-0.952336</td>\n",
       "      <td>-1.745434</td>\n",
       "    </tr>\n",
       "  </tbody>\n",
       "</table>\n",
       "</div>"
      ],
      "text/plain": [
       "                   A         B\n",
       "2013-01-02 -1.436983  1.654496\n",
       "2013-01-03 -0.755440 -0.344534\n",
       "2013-01-04 -0.952336 -1.745434"
      ]
     },
     "execution_count": 23,
     "metadata": {},
     "output_type": "execute_result"
    }
   ],
   "source": [
    "# Menampilkan pengirisan label, kedua titik akhir:\n",
    "df.loc[\"20130102\":\"20130104\", [\"A\", \"B\"]]"
   ]
  },
  {
   "cell_type": "code",
   "execution_count": 24,
   "id": "08ca791c",
   "metadata": {},
   "outputs": [
    {
     "data": {
      "text/plain": [
       "A   -1.436983\n",
       "B    1.654496\n",
       "Name: 2013-01-02 00:00:00, dtype: float64"
      ]
     },
     "execution_count": 24,
     "metadata": {},
     "output_type": "execute_result"
    }
   ],
   "source": [
    "# Pengurangan dimensi objek yang dikembalikan:\n",
    "df.loc[\"20130102\", [\"A\", \"B\"]]\n"
   ]
  },
  {
   "cell_type": "code",
   "execution_count": 25,
   "id": "eaab9b56",
   "metadata": {},
   "outputs": [
    {
     "data": {
      "text/plain": [
       "0.22283293372692187"
      ]
     },
     "execution_count": 25,
     "metadata": {},
     "output_type": "execute_result"
    }
   ],
   "source": [
    "# Untuk mendapatkan nilai skalar:\n",
    "df.loc[dates[0], \"A\"]"
   ]
  },
  {
   "cell_type": "code",
   "execution_count": 26,
   "id": "ff1f0d4c",
   "metadata": {},
   "outputs": [
    {
     "data": {
      "text/plain": [
       "0.22283293372692187"
      ]
     },
     "execution_count": 26,
     "metadata": {},
     "output_type": "execute_result"
    }
   ],
   "source": [
    "# Untuk mendapatkan akses cepat ke skalar (setara dengan metode sebelumnya):\n",
    "df.at[dates[0], \"A\"]"
   ]
  },
  {
   "cell_type": "code",
   "execution_count": null,
   "id": "2966136e",
   "metadata": {},
   "outputs": [],
   "source": []
  }
 ],
 "metadata": {
  "kernelspec": {
   "display_name": "Python 3 (ipykernel)",
   "language": "python",
   "name": "python3"
  },
  "language_info": {
   "codemirror_mode": {
    "name": "ipython",
    "version": 3
   },
   "file_extension": ".py",
   "mimetype": "text/x-python",
   "name": "python",
   "nbconvert_exporter": "python",
   "pygments_lexer": "ipython3",
   "version": "3.8.10"
  }
 },
 "nbformat": 4,
 "nbformat_minor": 5
}
